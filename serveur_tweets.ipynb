{
 "cells": [
  {
   "cell_type": "code",
   "execution_count": 1,
   "id": "1ba16b3f",
   "metadata": {},
   "outputs": [
    {
     "data": {
      "text/plain": [
       "'3.10.0'"
      ]
     },
     "execution_count": 1,
     "metadata": {},
     "output_type": "execute_result"
    }
   ],
   "source": [
    "import tweepy\n",
    "tweepy.__version__"
   ]
  },
  {
   "cell_type": "code",
   "execution_count": 13,
   "id": "2ed43619",
   "metadata": {},
   "outputs": [
    {
     "name": "stdout",
     "output_type": "stream",
     "text": [
      "Requirement already satisfied: tweepy==3.10 in c:\\users\\yousa\\anaconda3\\lib\\site-packages (3.10.0)\n",
      "Requirement already satisfied: six>=1.10.0 in c:\\users\\yousa\\anaconda3\\lib\\site-packages (from tweepy==3.10) (1.16.0)\n",
      "Requirement already satisfied: requests[socks]>=2.11.1 in c:\\users\\yousa\\anaconda3\\lib\\site-packages (from tweepy==3.10) (2.27.1)\n",
      "Requirement already satisfied: requests-oauthlib>=0.7.0 in c:\\users\\yousa\\anaconda3\\lib\\site-packages (from tweepy==3.10) (1.3.1)\n",
      "Requirement already satisfied: oauthlib>=3.0.0 in c:\\users\\yousa\\anaconda3\\lib\\site-packages (from requests-oauthlib>=0.7.0->tweepy==3.10) (3.2.0)\n",
      "Requirement already satisfied: urllib3<1.27,>=1.21.1 in c:\\users\\yousa\\anaconda3\\lib\\site-packages (from requests[socks]>=2.11.1->tweepy==3.10) (1.26.7)\n",
      "Requirement already satisfied: idna<4,>=2.5 in c:\\users\\yousa\\anaconda3\\lib\\site-packages (from requests[socks]>=2.11.1->tweepy==3.10) (3.2)\n",
      "Requirement already satisfied: certifi>=2017.4.17 in c:\\users\\yousa\\anaconda3\\lib\\site-packages (from requests[socks]>=2.11.1->tweepy==3.10) (2021.10.8)\n",
      "Requirement already satisfied: charset-normalizer~=2.0.0 in c:\\users\\yousa\\anaconda3\\lib\\site-packages (from requests[socks]>=2.11.1->tweepy==3.10) (2.0.4)\n",
      "Requirement already satisfied: PySocks!=1.5.7,>=1.5.6 in c:\\users\\yousa\\anaconda3\\lib\\site-packages (from requests[socks]>=2.11.1->tweepy==3.10) (1.7.1)\n"
     ]
    }
   ],
   "source": [
    "!pip install -U tweepy==3.10"
   ]
  },
  {
   "cell_type": "code",
   "execution_count": 6,
   "id": "7961a10c",
   "metadata": {},
   "outputs": [],
   "source": [
    "# from tweepy import StreamingClient\n",
    "from tweepy import Stream\n",
    "# from tweepy import StreamRule\n",
    "from tweepy import OAuthHandler\n",
    "from tweepy.streaming import StreamListener\n",
    "import socket\n",
    "import json"
   ]
  },
  {
   "cell_type": "code",
   "execution_count": 7,
   "id": "82c1ce13",
   "metadata": {},
   "outputs": [],
   "source": [
    "access_token = '1521929547054264327-9jtLcwvZCJfo13Haa7cAuMwBJOdWhv'\n",
    "access_token_secret = 'iIGnFDrHkjxLmMfnkaF5NNYNncj9ODpuNKOYIJFOJVDZb'\n",
    "consumer_key = '7xlI3ZudgIPY2Y26YdgUmXQPM'\n",
    "consumer_secret = 'pRcF3pJuPYa1dgxV2drKosm4xw0KLbPCoSM81andwaEwiAsVTY'\n",
    "bearer_token= 'AAAAAAAAAAAAAAAAAAAAAN3jcAEAAAAAiGSB6loRAX7uU841zFdDrjYpp14%3DUhoQuJlKjrA8vzuP09kNHAxvzJvczYpzzbsMk4oXQlJ0DoFI3j'"
   ]
  },
  {
   "cell_type": "code",
   "execution_count": 8,
   "id": "a9c3f107",
   "metadata": {},
   "outputs": [],
   "source": [
    "class TweetsListener(StreamListener):\n",
    "    def __init__(self, csocket):\n",
    "        self.client_socket = csocket\n",
    "    def on_data(self, data):\n",
    "        try:\n",
    "            msg = json.loads( data )\n",
    "            self.client_socket.send( msg['text'].encode('utf-8') )\n",
    "            return True\n",
    "        except BaseException as e:\n",
    "            print(\"Error on_data: %s\" % str(e))\n",
    "        return True\n",
    "\n",
    "    def on_error(self, status):\n",
    "        print(status)\n",
    "        return True"
   ]
  },
  {
   "cell_type": "code",
   "execution_count": 11,
   "id": "82ea0427",
   "metadata": {},
   "outputs": [],
   "source": [
    "def sendData(c_socket):\n",
    "    auth = OAuthHandler(consumer_key, consumer_secret)\n",
    "    auth.set_access_token(access_token, access_token_secret)\n",
    "\n",
    "    twitter_stream = Stream(auth, StreamListener(c_socket))\n",
    "#     twitter_stream.filter(track=['guitar'])"
   ]
  },
  {
   "cell_type": "markdown",
   "id": "4837d7a0",
   "metadata": {},
   "source": [
    "# Création du serveur qui sert le client"
   ]
  },
  {
   "cell_type": "code",
   "execution_count": null,
   "id": "9182d205",
   "metadata": {},
   "outputs": [
    {
     "name": "stdout",
     "output_type": "stream",
     "text": [
      "Now listening on port: 9009\n"
     ]
    }
   ],
   "source": [
    "if __name__ == \"__main__\":\n",
    "    #Créer un socket de serveur TCP\n",
    "    new_server_socket = socket.socket()\n",
    "    host = \"DESKTOP-NNMR9UL\"\n",
    "    port = 9009\n",
    "    \n",
    "    #Liaison de socket tcp à une adresse IP et à un port\n",
    "    new_server_socket.bind((host, port))\n",
    "\n",
    "    print(\"Now listening on port: %s\" % str(port))\n",
    "\n",
    "    #en attente de connexion client\n",
    "    new_server_socket.listen(5)\n",
    "    \n",
    "    #Établissez une connexion avec le client. il renvoie d’abord un objet socket,clientConnection et l’adresse liée au socket\n",
    "    clientConnection, clientAddress = new_server_socket.accept()\n",
    "    print(\"Received request from: \" + str(clientConnection))\n",
    "    \n",
    "    print(\"Received request from: \" + str(clientAddress))\n",
    "\n",
    "    # après avoir accepté la connexion, nous avons tous envoyé les tweets au server du client\n",
    "    sendData(clientConnection)"
   ]
  },
  {
   "cell_type": "code",
   "execution_count": null,
   "id": "1150074c",
   "metadata": {},
   "outputs": [],
   "source": []
  }
 ],
 "metadata": {
  "kernelspec": {
   "display_name": "Python 3 (ipykernel)",
   "language": "python",
   "name": "python3"
  },
  "language_info": {
   "codemirror_mode": {
    "name": "ipython",
    "version": 3
   },
   "file_extension": ".py",
   "mimetype": "text/x-python",
   "name": "python",
   "nbconvert_exporter": "python",
   "pygments_lexer": "ipython3",
   "version": "3.9.7"
  }
 },
 "nbformat": 4,
 "nbformat_minor": 5
}
